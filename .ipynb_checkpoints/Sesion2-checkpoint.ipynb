{
 "cells": [
  {
   "cell_type": "code",
   "execution_count": 1,
   "id": "ab022180",
   "metadata": {},
   "outputs": [],
   "source": [
    "i = 2"
   ]
  },
  {
   "cell_type": "code",
   "execution_count": 2,
   "id": "5180e8d2",
   "metadata": {},
   "outputs": [
    {
     "data": {
      "text/plain": [
       "int"
      ]
     },
     "execution_count": 2,
     "metadata": {},
     "output_type": "execute_result"
    }
   ],
   "source": [
    "type(i)"
   ]
  },
  {
   "cell_type": "code",
   "execution_count": null,
   "id": "83962988",
   "metadata": {},
   "outputs": [],
   "source": [
    "i = [2,3,4,5,6]"
   ]
  },
  {
   "cell_type": "code",
   "execution_count": 2,
   "id": "9ff5b05f",
   "metadata": {},
   "outputs": [],
   "source": [
    "tuplas = (123, \"Hola tuplas\", True,5.5, 28884488377292928)"
   ]
  },
  {
   "cell_type": "code",
   "execution_count": 3,
   "id": "387c0607",
   "metadata": {},
   "outputs": [
    {
     "data": {
      "text/plain": [
       "tuple"
      ]
     },
     "execution_count": 3,
     "metadata": {},
     "output_type": "execute_result"
    }
   ],
   "source": [
    "type(tuplas)"
   ]
  },
  {
   "cell_type": "code",
   "execution_count": 4,
   "id": "66757682",
   "metadata": {},
   "outputs": [],
   "source": [
    "lista = [123, \"Hola tuplas\", True,5.5, 28884488377292928]"
   ]
  },
  {
   "cell_type": "code",
   "execution_count": 5,
   "id": "f74075b6",
   "metadata": {},
   "outputs": [
    {
     "data": {
      "text/plain": [
       "list"
      ]
     },
     "execution_count": 5,
     "metadata": {},
     "output_type": "execute_result"
    }
   ],
   "source": [
    "type(lista)"
   ]
  },
  {
   "cell_type": "code",
   "execution_count": 7,
   "id": "f3e88510",
   "metadata": {},
   "outputs": [],
   "source": [
    "diccionario = {\"hola\":12, \"adios\":345}"
   ]
  },
  {
   "cell_type": "code",
   "execution_count": 8,
   "id": "eac121e2",
   "metadata": {},
   "outputs": [
    {
     "data": {
      "text/plain": [
       "dict"
      ]
     },
     "execution_count": 8,
     "metadata": {},
     "output_type": "execute_result"
    }
   ],
   "source": [
    "type(diccionario)"
   ]
  },
  {
   "cell_type": "code",
   "execution_count": null,
   "id": "75c9a7d9",
   "metadata": {},
   "outputs": [],
   "source": []
  }
 ],
 "metadata": {
  "kernelspec": {
   "display_name": "Python 3",
   "language": "python",
   "name": "python3"
  },
  "language_info": {
   "codemirror_mode": {
    "name": "ipython",
    "version": 3
   },
   "file_extension": ".py",
   "mimetype": "text/x-python",
   "name": "python",
   "nbconvert_exporter": "python",
   "pygments_lexer": "ipython3",
   "version": "3.8.8"
  }
 },
 "nbformat": 4,
 "nbformat_minor": 5
}
